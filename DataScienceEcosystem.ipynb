{
 "cells": [
  {
   "cell_type": "markdown",
   "id": "78990661",
   "metadata": {},
   "source": [
    "#Data Science Tools and Ecosystem"
   ]
  },
  {
   "cell_type": "markdown",
   "id": "f718ea33",
   "metadata": {},
   "source": [
    "# Data Science Tools and Ecosystem\n"
   ]
  },
  {
   "cell_type": "markdown",
   "id": "5d2c2c67",
   "metadata": {},
   "source": [
    "##### In this notebook, Data Science Tools and Ecosystem are summarized"
   ]
  },
  {
   "cell_type": "markdown",
   "id": "848a58bc",
   "metadata": {},
   "source": [
    "### Some of the popular languages in data science are:\n",
    "\n",
    "1. Python\n",
    "2. Javascript\n",
    "3. Java\n",
    "4. C++\n",
    "5. SQL\n",
    "6. R\n"
   ]
  },
  {
   "cell_type": "markdown",
   "id": "9b852418",
   "metadata": {},
   "source": [
    "## Some of the commonly used libraries used by Data Scientists include:\n",
    "\n",
    "1. Sci-kit learn\n",
    "2. numpy\n",
    "3. pandas\n",
    "4. tensorflow\n",
    "5. Keras\n",
    "6. scipy\n",
    "\n"
   ]
  },
  {
   "cell_type": "markdown",
   "id": "838eaa12",
   "metadata": {},
   "source": [
    "|Data Science Tools|\n",
    "|------------------|\n",
    "|Jupyter Lite|\n",
    "|RStudio|\n",
    "|SAS|"
   ]
  },
  {
   "cell_type": "markdown",
   "id": "7864b94e",
   "metadata": {},
   "source": [
    "### Below are a few examples of evaluating arithmetic expressions in Python\n",
    "\n"
   ]
  },
  {
   "cell_type": "code",
   "execution_count": 7,
   "id": "f9d94809",
   "metadata": {},
   "outputs": [
    {
     "data": {
      "text/plain": [
       "57"
      ]
     },
     "execution_count": 7,
     "metadata": {},
     "output_type": "execute_result"
    }
   ],
   "source": [
    "#this is a simple arithmetic expression to multiply then add integers\n",
    "result = (6*8) + 9\n",
    "result"
   ]
  },
  {
   "cell_type": "code",
   "execution_count": 8,
   "id": "c959b473",
   "metadata": {},
   "outputs": [
    {
     "data": {
      "text/plain": [
       "8.333333333333334"
      ]
     },
     "execution_count": 8,
     "metadata": {},
     "output_type": "execute_result"
    }
   ],
   "source": [
    "#This will convert 200 minutes to hours by diving by 60\n",
    "mintohours= 500/60\n",
    "mintohours"
   ]
  },
  {
   "cell_type": "markdown",
   "id": "19d5342a-42c7-4fc7-87aa-794291a0b70c",
   "metadata": {},
   "source": [
    "_Objectives_\n",
    "* How to provide comments in the cell\n",
    "* List popular languages for data science\n",
    "* List popular libraries for data science\n",
    "* List of well know data science tools\n"
   ]
  },
  {
   "cell_type": "markdown",
   "id": "61e192ee",
   "metadata": {},
   "source": [
    "## Author\n",
    "\n",
    "Michaël Féré"
   ]
  }
 ],
 "metadata": {
  "kernelspec": {
   "display_name": "Python 3 (ipykernel)",
   "language": "python",
   "name": "python3"
  },
  "language_info": {
   "codemirror_mode": {
    "name": "ipython",
    "version": 3
   },
   "file_extension": ".py",
   "mimetype": "text/x-python",
   "name": "python",
   "nbconvert_exporter": "python",
   "pygments_lexer": "ipython3",
   "version": "3.11.7"
  }
 },
 "nbformat": 4,
 "nbformat_minor": 5
}
